{
 "cells": [
  {
   "cell_type": "markdown",
   "id": "a05de1b9-8195-4d3c-a140-f5b3dba4fe91",
   "metadata": {},
   "source": [
    "# Data Science Tools and Ecosystem"
   ]
  },
  {
   "cell_type": "markdown",
   "id": "80b00a3d-a858-454d-9c0e-11905541f0cd",
   "metadata": {},
   "source": [
    "In this notebook, Data Science Tools and Ecosystem are summarized.\n"
   ]
  },
  {
   "cell_type": "markdown",
   "id": "0edebfae-5977-47a9-8681-964c0c0a2a4a",
   "metadata": {},
   "source": [
    "<b>Objectives:</b>\n",
    "<ul>\n",
    "    <li>python</li>\n",
    "    <li>r</li>\n",
    "    <li>sql</li>\n",
    "</ul>"
   ]
  },
  {
   "cell_type": "markdown",
   "id": "eee3de34-605c-427a-8d13-3b7aa5cd01d8",
   "metadata": {},
   "source": [
    "Some of the popular languages that Data Scientists use are:\n",
    "<ol>\n",
    "<li>Python</li>\n",
    "<li>R</li>\n",
    "<li>SQL</li>\n",
    "</ol>"
   ]
  },
  {
   "cell_type": "markdown",
   "id": "9fa26c88-be0f-4ed4-a6df-485b9ea8486e",
   "metadata": {},
   "source": [
    "Some of the commonly used libraries used by Data Scientists include:\n",
    "<ol>\n",
    "<li>Pandas</li>\n",
    "<li>Numpy</li>\n",
    "<li>Mapplotlib</li>\n",
    "</ol>"
   ]
  },
  {
   "cell_type": "markdown",
   "id": "0566201f-2e71-4a8f-9147-a66b7cc254fa",
   "metadata": {},
   "source": [
    "<table>\n",
    "<tr>\n",
    "<th>\n",
    "<th>Data science tools</th>\n",
    "</tr>\n",
    "<tr>\n",
    "<th>rStudio</th>\n",
    "<th>Apache spark</th>\n",
    "<th>TensorFlow</th>\n",
    "</tr>"
   ]
  },
  {
   "cell_type": "markdown",
   "id": "6abac448-2d57-4fee-b8f7-fca1191aee09",
   "metadata": {},
   "source": [
    "### Below are a few examples of evaluating arithmetic expressions in Python.\n",
    "\n"
   ]
  },
  {
   "cell_type": "code",
   "execution_count": 7,
   "id": "b639b56a-b5ee-4e8a-bf03-840b440921ed",
   "metadata": {},
   "outputs": [
    {
     "data": {
      "text/plain": [
       "17"
      ]
     },
     "execution_count": 7,
     "metadata": {},
     "output_type": "execute_result"
    }
   ],
   "source": [
    "# This a simple arithmetic expression to mutiply then add integers\n",
    "(3*4)+5"
   ]
  },
  {
   "cell_type": "code",
   "execution_count": 8,
   "id": "dc0c5715-ece2-459f-a199-2a688e1a86f9",
   "metadata": {},
   "outputs": [
    {
     "data": {
      "text/plain": [
       "3.3333333333333335"
      ]
     },
     "execution_count": 8,
     "metadata": {},
     "output_type": "execute_result"
    }
   ],
   "source": [
    "# This will convert 200 minutes to hours by diving by 60\n",
    "200/60"
   ]
  },
  {
   "cell_type": "markdown",
   "id": "7713be8e-d7c0-4fa0-97b8-4dcdd23d6aa1",
   "metadata": {},
   "source": [
    "## Author\n",
    "Roberto Perez Miro"
   ]
  },
  {
   "cell_type": "code",
   "execution_count": null,
   "id": "baf6f2c1-804e-47e2-ba4b-2346d9129062",
   "metadata": {},
   "outputs": [],
   "source": []
  }
 ],
 "metadata": {
  "kernelspec": {
   "display_name": "Python 3 (ipykernel)",
   "language": "python",
   "name": "python3"
  },
  "language_info": {
   "codemirror_mode": {
    "name": "ipython",
    "version": 3
   },
   "file_extension": ".py",
   "mimetype": "text/x-python",
   "name": "python",
   "nbconvert_exporter": "python",
   "pygments_lexer": "ipython3",
   "version": "3.12.7"
  }
 },
 "nbformat": 4,
 "nbformat_minor": 5
}
